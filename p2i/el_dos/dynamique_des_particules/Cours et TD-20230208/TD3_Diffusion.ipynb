{
 "cells": [
  {
   "cell_type": "markdown",
   "id": "2b75df64",
   "metadata": {},
   "source": [
    "# Diffusion"
   ]
  },
  {
   "cell_type": "markdown",
   "id": "9b02fa07",
   "metadata": {},
   "source": [
    "<div class='alert alert-info'>\n",
    "    <p>Après avoir simuler une particule essayons maintenant de simuler le comportement d'un ensemble de particule.</p>\n",
    "</div>"
   ]
  },
  {
   "cell_type": "markdown",
   "id": "947f3e0d",
   "metadata": {},
   "source": [
    "## Loi de Fick"
   ]
  },
  {
   "cell_type": "markdown",
   "id": "285e1d61",
   "metadata": {},
   "source": [
    "<p>\n",
    "<img src=\"./Images/Diffusion/lagune_argentine.jpeg\" alt width=500 heigth=500>\n",
    "<center>Fig. 1 Une vue aérienne d'une lagune qui a viré au rose, dans la province de Chubut, en Argentine, due au déversement de produits chimiques par des industriels de la pêche de la région. DANIEL FELDMAN / AFP</center>\n",
    "<p>\n",
    "\n",
    "Plus de 80 % de la population mondiale serait concernée par des ressources en eau douce dégradées. Il est donc important de comprendre les mécanismes de diffusion en temps et en espace dans les eaux de surface comme les rivières, les lacs et les océans. Nous allons ici essayer de le simuler dans un cas simple.\n",
    "Considérons notre polluant comme de l'encre. Lorsqu’on verse quelques gouttes d’encre colorées dans l’eau, on observe que les deux liquides se mélangent (voir figure ci-dessous). Dans un premier temps, le mélange s’effectue par la convection (le mouvement d’ensemble de grandes quantités d’eau), puis celui-ci s’effectue ensuite à l’échelle plus fine jusqu’à une homogénéisation totale du mélange.\n",
    "    \n",
    "<p>\n",
    "<img src=\"./Images/Diffusion/DiffusionEncre.pdf\" alt width=500 heigth=500>\n",
    "<center>Fig. 2 Mélange de deux liquides grace à la diffusion</center>\n",
    "<p>\n",
    "   \n",
    "La loi de Fick décrit la diffusion de la matière à l’échelle macroscopique. Elle a été formulée par Adolf Fick en 1855 (voir figure ci-dessous). Cette loi relie le flux de particules $\\vec{j}$ au gradient de concentration $C$ selon :\n",
    "    \n",
    "$$\n",
    "\\vec{j}=-D.\\vec{grad}C\n",
    "$$\n",
    "où $\\vec{j}$ est exprimé en $mol.m^{-2}.s^{-1}$ et $C$ en $mol.m^{-3}$. $D$ est appelé coefficient de\n",
    "diffusion.\n",
    "A cette Loi de Fick on peut coupler la loi de la conservaton de la matière\n",
    "\n",
    "$$\n",
    "\\frac{\\delta C}{\\delta t}+div(\\vec{j})=0\n",
    "$$\n",
    "    \n",
    "<p>\n",
    "<img src=\"./Images/Diffusion/Adolf_Fick.jpeg\" alt width=150 heigth=150>\n",
    "<center>Fig. 3 Adolf Eugene Fick (3 septembre 1829 à Kassel - 21 août 1901 à Blankenberge) est un physiologiste allemand.</center>\n",
    "<p>\n"
   ]
  },
  {
   "cell_type": "markdown",
   "id": "a4c0a0f5",
   "metadata": {},
   "source": [
    "## Evolution d'un profil de concentration"
   ]
  },
  {
   "cell_type": "markdown",
   "id": "11f994bf",
   "metadata": {},
   "source": [
    "A l'échelle de TD, nous allons réaliser un programme capable de prédire l’évolution d’un profil de concentration en 1 dimension. On considère alors un parallélépipède de section S perpendiculaire selon l'axe $\\vec{x}$ (voir figure 4). Ce parallélépipède est constitués de $N$ couches d'épaisseur $\\Delta x$. La couche $i$ a pour position $x_{i}$ et une concentration $C(x_i, t_i)$ au temps $t_i$. L'objectif sera de calculer l'évolution du profil de concentration du polluant au cours du temps, i.e. tous les $\\Delta t$.\n",
    "\n",
    "<p>\n",
    "<img src=\"./Images/Diffusion/Diffusion1D.pdf\" alt width=300 heigth=300>\n",
    "<center>Fig. 4 Modélisation de la diffusion dans un parallelépipède de section $S$ divisé en $N$ couches de taille $\\Delta x$</center>\n",
    "<p>"
   ]
  },
  {
   "cell_type": "markdown",
   "id": "9506cf14",
   "metadata": {},
   "source": [
    "<div class='alert alert-success'><strong>Question 1</strong>\n",
    "    \n",
    "Définir les constantes du problème.\n",
    "</div>"
   ]
  },
  {
   "cell_type": "markdown",
   "id": "935154c3",
   "metadata": {},
   "source": [
    "<div class='alert alert-success'><strong>Question 2</strong>\n",
    "    \n",
    "Initialiser la matrice de concentration $C(x_i, t_i)$ de telle façon que les concentrations de la moitié des couches de la partie de gauche aient une valeur initiale $C_0$ et toutes les autres une valeur nulle.\n",
    "</div>"
   ]
  },
  {
   "cell_type": "markdown",
   "id": "6aabe55f",
   "metadata": {},
   "source": [
    "<div class='alert alert-success'><strong>Question 3</strong>\n",
    "    \n",
    "Calculer l'évolution du profil en concentration.\n",
    "</div>"
   ]
  },
  {
   "cell_type": "markdown",
   "id": "9e4f2335",
   "metadata": {},
   "source": [
    "<div class='alert alert-success'><strong>Question 4</strong>\n",
    "    \n",
    "Tracer l'évolution du profil en concentration.\n",
    "</div>"
   ]
  },
  {
   "cell_type": "code",
   "execution_count": null,
   "id": "be71a374",
   "metadata": {},
   "outputs": [],
   "source": []
  },
  {
   "cell_type": "code",
   "execution_count": null,
   "id": "49ad817e",
   "metadata": {},
   "outputs": [],
   "source": []
  }
 ],
 "metadata": {
  "kernelspec": {
   "display_name": "Python 3 (ipykernel)",
   "language": "python",
   "name": "python3"
  },
  "language_info": {
   "codemirror_mode": {
    "name": "ipython",
    "version": 3
   },
   "file_extension": ".py",
   "mimetype": "text/x-python",
   "name": "python",
   "nbconvert_exporter": "python",
   "pygments_lexer": "ipython3",
   "version": "3.9.7"
  },
  "toc": {
   "base_numbering": 1,
   "nav_menu": {},
   "number_sections": true,
   "sideBar": true,
   "skip_h1_title": true,
   "title_cell": "Table des matières",
   "title_sidebar": "Contenu",
   "toc_cell": true,
   "toc_position": {
    "height": "calc(100% - 180px)",
    "left": "10px",
    "top": "150px",
    "width": "225.2px"
   },
   "toc_section_display": true,
   "toc_window_display": true
  }
 },
 "nbformat": 4,
 "nbformat_minor": 5
}
