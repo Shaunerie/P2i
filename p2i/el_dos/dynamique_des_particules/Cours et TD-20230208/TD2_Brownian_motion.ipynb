{
 "cells": [
  {
   "cell_type": "markdown",
   "id": "2b75df64",
   "metadata": {},
   "source": [
    "# Brownian motion"
   ]
  },
  {
   "cell_type": "markdown",
   "id": "9b02fa07",
   "metadata": {},
   "source": [
    "<div class='alert alert-info'>\n",
    "    <p>In this session, students will investigate the Brownian motion of latex particles in water. They will numerically solve the second Newton's law with a random strength for a 2D system and draw different trajectories, and study their mean and quadratic speed and displacement</p>\n",
    "</div>"
   ]
  },
  {
   "cell_type": "markdown",
   "id": "947f3e0d",
   "metadata": {},
   "source": [
    "## Introduction"
   ]
  },
  {
   "cell_type": "markdown",
   "id": "0b1c5eb9",
   "metadata": {},
   "source": [
    "### Brownian motion and main equation"
   ]
  },
  {
   "cell_type": "markdown",
   "id": "285e1d61",
   "metadata": {},
   "source": [
    "In 1827, the botanist Robert Brown brings to light, by means of a microscope, the ceaseless excitement of grains of pollen in an aqueous solution. He observed that this phenomenon does not depend either on the flow of the fluid or on its evaporation and asserts that this random movement was the consequence of the thermal bath into which is plunged the grain of pollen. This reasoning remains true as long as the particles (i.e. pollen) have a mass of an order of height upper to the bath particles one (i.e. water).\n",
    "<p>\n",
    "<img src=\"./Images/Brown_motion/Brown_Langevin.png\" alt width=250 heigth=250>\n",
    "<center>Fig. 1 Robert Brown (1773-1858) on the left and Paul Langevin (1872-1946) on the right</center>\n",
    "<p>"
   ]
  },
  {
   "cell_type": "markdown",
   "id": "c0d42a27",
   "metadata": {},
   "source": [
    "Figure 2 is an example of nanoparticles in water using a laser unit and a camera with a nanosight adapter, mounted on an optical microscope.\n",
    "\n",
    "<p>\n",
    "<img src=\"./Images/Brown_motion/Video.jpg\" alt width=300 heigth=300>\n",
    "<center>Fig. 2 Nanoparticles in water observed with a microscope</center>\n",
    "<p>\n",
    "\n",
    "In 1908, Paul Langevin described the continuous jittery motion of particles in a fluid due to collisions with its neighboring particles and to friction strengths:\n",
    "\n",
    "- the friction strength $\\overrightarrow{F_f}$ is proportional to the particle velocity $\\overrightarrow{v}(t)$ and its radius $R$ with $\\overrightarrow{F_f}\\!=\\!-6\\pi\\!\\cdot\\!\\eta\\!\\cdot\\!R\\!\\cdot\\!\\overrightarrow{v}(t)$. Here, $\\eta$ is the viscosity of the dense aqueous solution.\n",
    "- the fluctuating random strength $\\overrightarrow{F_r}$ due to random shocks between our particle and the surrounding ones. This later is independent from the particle velocity $\\overrightarrow{v}(t)$, and its time average $\\left\\langle\\overrightarrow{F_r}(t)\\right\\rangle_t$ is equal to $\\overrightarrow{0}$.\n",
    "\n",
    "The second Newton's law applied to a particle then links the acceleration to its speed since:\n",
    "\\begin{equation}\n",
    "\tm\\cdot\\dfrac{\\partial\\overrightarrow{v}(t)}{\\partial t}=\\overrightarrow{F_f}+\\overrightarrow{F_r}=-6\\pi\\!\\cdot\\!\\eta\\!\\cdot\\!R\\!\\cdot\\!\\overrightarrow{v}(t)+\\overrightarrow{F_r}\n",
    "\t\\label{equ_Mouvement_Brownien_100} \\tag{1}\n",
    "\\end{equation}\n",
    "\n",
    "On may notice that the gravity strength is not taken into account since such a volume strength has negligible influences for very small systems where surface strengths dominate."
   ]
  },
  {
   "cell_type": "markdown",
   "id": "45ecfb09",
   "metadata": {},
   "source": [
    "### Statistic properties of particles"
   ]
  },
  {
   "cell_type": "markdown",
   "id": "2a89d2bd",
   "metadata": {},
   "source": [
    "To simplify Langevin equation ([1](#mjx-eqn-equ_Mouvement_Brownien_100)), we will introduce:\n",
    "\\begin{equation}\n",
    "\t\\tau=\\dfrac{m}{6\\pi\\!\\cdot\\!\\eta\\!\\cdot\\!R}\n",
    "\t\\label{equ_Mouvement_Brownien_200} \\tag{2}\n",
    "\\end{equation}\n",
    "so that:\n",
    "\\begin{equation}\n",
    "\t\\dfrac{\\partial\\overrightarrow{v}(t)}{\\partial t}=-\\dfrac{1}{\\tau}\\overrightarrow{v}(t)+\\dfrac{1}{m}\\overrightarrow{F_r}\n",
    "\t\\label{equ_Mouvement_Brownien_300} \\tag{3}\n",
    "\\end{equation}\n",
    "\n",
    "A solution to this equation is given by:\n",
    "\\begin{equation}\n",
    "\t\\overrightarrow{v}(t)=\\overrightarrow{v_0}\\cdot e^{-t/\\tau}+\\dfrac{1}{m}\\cdot\\int_0^t\\overrightarrow{F_r}\\cdot e^{(s-t)/\\tau}\\cdot ds\n",
    "\t\\label{equ_Mouvement_Brownien_400}\n",
    "\\end{equation}\n",
    "where $\\overrightarrow{v_0}$ is the initial speed of the particles.\n",
    "\n",
    "As $\\overrightarrow{F_r}$ can be assimilated to a Gaussian white noise strength, the mean velocity $\\left\\langle\\overrightarrow{v}(t)\\right\\rangle_t$ is given by:\n",
    "<p>\n",
    "\\begin{equation}\n",
    "\t\\left\\langle\\overrightarrow{v}(t)\\right\\rangle_t=\\left\\langle\\overrightarrow{v_0}\\cdot e^{-t/\\tau}\\right\\rangle_t\n",
    "\t\\label{equ_Mouvement_Brownien_500}\n",
    "\\end{equation}\n",
    "\n",
    "By time integration, we obtain the average travel displacement $\\left\\langle\\overrightarrow{r}(t)\\right\\rangle_t$:\n",
    "<p>\n",
    "\\begin{equation}\n",
    "\t\\left\\langle\\overrightarrow{r}(t)\\right\\rangle_t=\\overrightarrow{r_0}+\\tau\\cdot(1-e^{-t/\\tau})\\cdot\\overrightarrow{v_0}\n",
    "\t\\label{equ_Mouvement_Brownien_600}\n",
    "\\end{equation}\n",
    "\n",
    "Consequently, after a long delay,\n",
    "<p>\n",
    "\\begin{equation}\n",
    "\t\\left\\langle\\overrightarrow{r}(t)\\right\\rangle_t=\\overrightarrow{r_0}+\\tau\\cdot\\overrightarrow{v_0}=\\overrightarrow{cste}\n",
    "\t\\label{equ_Mouvement_Brownien_700}\n",
    "\\end{equation}\n",
    "\n",
    "This result demonstrates that the arithmetic average of the position $\\left\\langle\\overrightarrow{r}(t)\\right\\rangle_t$ does not characterize the movement since it is a constant (ie, the particle should remain at the same position when considering a long time observation). Unfortunately, Brown's observations demonstrate the opposite, with moving particles on long time ranges. In 1900, L. Bachelier (1870-1946) shows that the Brownian motion is characterized by its average quadratic displacement $\\left\\langle\\overrightarrow{r^2}(t)\\right\\rangle_t$. This later linearly depends on time, since for a long time study:\n",
    "\\begin{equation}\n",
    "\t\\left\\langle\\overrightarrow{r^2}(t)\\right\\rangle_t=2\\cdot d\\cdot D \\cdot t\n",
    "\t\\label{equ_Mouvement_Brownien_800}\n",
    "\\end{equation}\n",
    "where $d$ is the system dimension (2 for 2D, 3 for 3D) and $D$ the diffusion coefficient given by the Einstein formula for a particle of radius $R$:\n",
    "<p>\n",
    "\\begin{equation}\n",
    "\tD=\\dfrac{k_B\\cdot T}{6\\pi\\!\\cdot\\!\\eta\\!\\cdot\\!R}\n",
    "\t\\label{equ_Mouvement_Brownien_900} \\tag{4}\n",
    "\\end{equation}\n",
    "\n",
    "We will assume that the successive shocks in the aqueous solution occurs regularly each $\\tau^\\prime$ time step, with $\\tau^\\prime\\ll\\tau$. These shocks are linked to the strength $F_r$ that varies in the range $[-F_{r_{max}},F_{r_{max}}]$ where $F_{r_{max}}$ is:\n",
    "<p>\n",
    "\\begin{equation}\n",
    "\t\\left\\langle{F_r^2}\\right\\rangle_t=\\dfrac{F_{r_{max}}^2}{2}=\\dfrac{3\\cdot D\\cdot m^2}{\\tau^\\prime\\cdot \\tau^2}\n",
    "\t\\label{equ_Mouvement_Brownien_1000} \\tag{5}\n",
    "\\end{equation}"
   ]
  },
  {
   "cell_type": "markdown",
   "id": "36111ac8",
   "metadata": {},
   "source": [
    "### Discretization of a differential equation"
   ]
  },
  {
   "cell_type": "markdown",
   "id": "53d38b7f",
   "metadata": {},
   "source": [
    "The Langevin equation, equ. ([3](#mjx-eqn-equ_Mouvement_Brownien_300)), is not an ODE (Ordinary Differential Equation) due to the random strength $\\overrightarrow{F_r}$. However, it is possible to transform a continuous equation into a discrete one using an accurate time step, that must be small compared to the variations of our system: here, we will assume that the elapsed time between two shocks ($\\tau^\\prime$) is well adapted to our problem.\n",
    "\n",
    "Instead of using $t$, we will consider events at dates $t_i=i\\cdot\\tau^\\prime$ since  $\\tau^\\prime\\ll\\tau$, with $i$ varying between $0$ and $N$. Then, the discrete simulated time range corresponds to $[0,N\\cdot\\tau^\\prime]$. We obtain with the Explicit Euler algorithm:\n",
    "\\begin{equation}\n",
    "\t\\forall i \\in[0,N-1], \\dfrac{\\overrightarrow{v}(t_{i+1})-\\overrightarrow{v}(t_{i})}{\\tau^\\prime}=-\\dfrac{1}{\\tau}\\cdot\\overrightarrow{v}(t_{i})+\\dfrac{1}{m}\\overrightarrow{F}(t_{i})\n",
    "\t\\label{equ_Mouvement_Brownien_1100}\n",
    "\\end{equation}\n",
    "\n",
    "Then, it is possible to calculate the speed at the next iteration step as a function of the results obtained for the previous iterations:\n",
    "\\begin{equation}\n",
    "\t\\forall i \\in[0,N-1], \\overrightarrow{v}(t_{i+1})=\\left(1-\\dfrac{\\tau^\\prime}{\\tau}\\right)\\cdot\\overrightarrow{v}(t_{i})+\\dfrac{\\tau^\\prime}{m}\\cdot\\overrightarrow{F}(t_{i})\n",
    "\t\\label{equ_Mouvement_Brownien_1200} \\tag{6}\n",
    "\\end{equation}"
   ]
  },
  {
   "cell_type": "markdown",
   "id": "ffc8c1c6",
   "metadata": {},
   "source": [
    "### Moi: remarque on appelle le fait de calculer la dérivée tah la limite le critère d'Euler... (comme on appelle l'autre celui de Verlet) Pour résoudre une équa diff."
   ]
  },
  {
   "cell_type": "markdown",
   "id": "0e82a7bb",
   "metadata": {},
   "source": [
    "## Preliminary work"
   ]
  },
  {
   "cell_type": "markdown",
   "id": "2e8580c3",
   "metadata": {},
   "source": [
    "In order to simulate different situations, it is important to define which are the main parameters, the constants, and the parameters we can calculate. \n",
    "Obviously, for latex particles in water, the main parameters are: "
   ]
  },
  {
   "cell_type": "markdown",
   "id": "454fa612",
   "metadata": {},
   "source": [
    "\n",
    "\n",
    "|  Name of the parameter | Symbol  |  Value |  Unit |\n",
    "|---|:-:|:-:|:-:|\n",
    "|Radius of the particles| $R$ | $20$ | $nm$ |\n",
    "|Temperature of the system|\t$T$ | $25$ | $°C$ |\n",
    "|Dimension of the system (2D)| $d$| | $2$ | - |\n",
    "|Mean time between two shocks| $\\tau^\\prime$ | $20$ | $ps$ |\n",
    "|Viscosity| $\\eta$ |8.84e-4| kg/(m.s) |\n",
    "|Boltzmann constant| $k_b$ |1.38e-23| J/K |\n",
    "|Mass density| $\\rho$ |960| kg/$m^3$ |\n"
   ]
  },
  {
   "cell_type": "markdown",
   "id": "b91f51bc",
   "metadata": {},
   "source": [
    "<div class='alert alert-success'><strong>Question 1</strong>\n",
    "\n",
    "Create a code that begins with the main parameters initialization. Be careful with units ! We suggest to convert all values in the ISU (International System of Units).\n",
    "\n",
    "</div>"
   ]
  },
  {
   "cell_type": "code",
   "execution_count": 1,
   "id": "3249c5f3",
   "metadata": {},
   "outputs": [],
   "source": [
    "import numpy as np\n",
    "from numpy import cos, sin, pi, tan, exp, log, sqrt\n",
    "import numpy.random as rd\n",
    "import matplotlib.pyplot as plt\n",
    "import matplotlib as mpl"
   ]
  },
  {
   "cell_type": "code",
   "execution_count": 2,
   "id": "0735455f",
   "metadata": {},
   "outputs": [],
   "source": [
    "R = 20*1e-9; T = 25 + 273; d = 2; tau_p = 20*1e-12; eta = 8.84*1e-4; k_b = 1.38*1e-23; rho = 960 ; \n",
    "m = (4/3)*pi*R**3*rho; tau = m/(6*pi*eta*R); D = k_b*T/(6*pi*eta*R); \n",
    "F_max = sqrt((6*D*m**2)/(tau_p*tau**2))# Tout en SI"
   ]
  },
  {
   "cell_type": "markdown",
   "id": "5cbfe15c",
   "metadata": {},
   "source": [
    "## Discretization of the Langevin equation and numerical resolution"
   ]
  },
  {
   "cell_type": "markdown",
   "id": "8c71e30e",
   "metadata": {},
   "source": [
    "For this session, we will use:\n",
    "\\begin{equation}\n",
    "\t\\overrightarrow{r_0}=\\begin{cases}x_0=0& m\\\\y_0=0& m\\end{cases}\\hspace{2ex}\\text{and}\\hspace{2ex}\\overrightarrow{v_0}=\\begin{cases}v_{x_0}=1 & m.s^{-1}\\\\v_{y_0}=0.5 & m.s^{-1}\\end{cases}\n",
    "\t\\label{equ_Mouvement_Brownien_1400}\n",
    "\\end{equation}"
   ]
  },
  {
   "cell_type": "markdown",
   "id": "226a2fdd",
   "metadata": {},
   "source": [
    "<div class='alert alert-success'><strong>Question 2</strong>\n",
    "\n",
    "Define $x_0$, $y_0$, $v_{x_0}$ and $v_{y_0}$ \n",
    "\n",
    "</div>"
   ]
  },
  {
   "cell_type": "code",
   "execution_count": 3,
   "id": "7eecba2a",
   "metadata": {},
   "outputs": [],
   "source": [
    "x0 = 0; y0 = 0; v_x0 = 1; v_y0 = 0.5 "
   ]
  },
  {
   "cell_type": "markdown",
   "id": "fc6df1f2",
   "metadata": {
    "ExecuteTime": {
     "end_time": "2022-02-02T14:15:03.241832Z",
     "start_time": "2022-02-02T14:15:03.216497Z"
    }
   },
   "source": [
    "As we need to average positions or speeds, we need to simulate a high number of particles trajectories. For this reason, we will use $M$ simulations and then calculate the statistics we need and we will store the different values of $v_{x}(t_i)$ (and $v_{y}(t_i)$) under a $(N+1)\\!\\times\\!M$ matrix $V_x$, where each column corresponds to the simulation of a single particle."
   ]
  },
  {
   "cell_type": "markdown",
   "id": "24f2ab4d",
   "metadata": {},
   "source": [
    "<div class='alert alert-success'><strong>Question 3</strong>\n",
    "Use equation (6) to calculate the $(N+1)\\!\\times\\!M$ matrices $V_x$ and $V_y$. You can import \"random\" library to generate floating numbers between $0$ and $1$. To test the code, we advise to use small values of $N$ and $M$ and check the content of our variables.\n",
    "</div>"
   ]
  },
  {
   "cell_type": "code",
   "execution_count": null,
   "id": "19f86a47",
   "metadata": {
    "scrolled": true
   },
   "outputs": [],
   "source": [
    "#Equation 6: v_i(t+1) = (1-(tau_p/tau))*v_i(t) + (tau_p/m)*F_i(t)\n",
    "N = 1000000 #le nombre de temps\n",
    "M = 1000 #nombre de pollen\n",
    "#On définit les matrices résultats:\n",
    "Vx, Vy = np.zeros((N+1, M)), np.zeros((N+1, M))\n",
    "#simulation\n",
    "Vx[0] += v_x0\n",
    "Vy[0] += v_y0\n",
    "for t in range(1, N+1): #on commence à 1 car la vitesse est nulle au debout\n",
    "    for p in range(M):\n",
    "        random_x = rd.random_sample()\n",
    "        random_y = rd.random_sample()\n",
    "        \n",
    "        force_random_x = ((random_x*2)-1)*F_max #Pour avoir -Fmax < F_random < Fmax depuis 0 < random < 1 \n",
    "        force_random_y = ((random_y*2)-1)*F_max #pour avoir \n",
    "        \n",
    "        vx_p_t = (1-(tau_p/tau))*Vx[t-1][p] + (tau_p/m)*force_random_x\n",
    "        vy_p_t = (1-(tau_p/tau))*Vy[t-1][p] + (tau_p/m)*force_random_y\n",
    "        Vx[t][p] = vx_p_t\n",
    "        Vy[t][p] = vy_p_t\n",
    "        \n",
    "\"\"\"\n",
    "print(M_vx, end=\"\\n\"*5)\n",
    "print(M_vy, end=\"\\n\"*5)\n",
    "\"\"\""
   ]
  },
  {
   "cell_type": "markdown",
   "id": "593fcfef",
   "metadata": {},
   "source": [
    "<div class='alert alert-success'><strong>Question 4</strong>\n",
    "Calculate and store into $N\\!+\\!1$ long vectors $V_{m_x}(t_i)$ and $V_{m_y}(t_i)$ the average speeds calculated in the previous question. Plot these average speeds versus time in two graphs in the same window.\n",
    "</div>"
   ]
  },
  {
   "cell_type": "code",
   "execution_count": null,
   "id": "031a86bf",
   "metadata": {},
   "outputs": [],
   "source": [
    "#Maitenant on fait un moyennage des colonnes pour avoir le comportement concret d'une particule au cours du temps:\n",
    "V_moy_x = np.mean(Vx, axis=1) #axis = 1 --> on regroupe les colonne\n",
    "V_moy_y = np.mean(Vy, axis=1)\n",
    "\n",
    "\"\"\"\n",
    "print(V_moy_x, end=\"\\n\"*5)\n",
    "print(V_moy_y, end=\"\\n\"*5)\n",
    "\"\"\"\n",
    "#Affichage:\n",
    "time = tau_p*np.linspace(0,N, N+1)\n",
    "\n",
    "fig, (ax1, ax2) = plt.subplots(1, 2, figsize=(14,4)) #le 1,1 veut dire une ligne une colonne soit deux graphes\n",
    "ax1.set_xlabel('temps(s)')\n",
    "ax1.set_ylabel('Vitesse moyenne x(t) (m.s-1)')\n",
    "ax1.set_title('Evolution de la vitesse moyenne x')\n",
    "\n",
    "ax2.set_xlabel('temps(s)')\n",
    "ax2.set_ylabel('Vitesse moyenne y(t) (m.s-1)')\n",
    "ax2.set_title('Evolution de la vitesse moyenne y')\n",
    "\n",
    "ax1.plot(time, V_moy_x)\n",
    "ax2.plot(time, V_moy_y)"
   ]
  },
  {
   "cell_type": "markdown",
   "id": "de01c785",
   "metadata": {},
   "source": [
    "<div class='alert alert-success'><strong>Question 5</strong>\n",
    "Try with $M\\!=\\!400$. Is your simulation compatible with Langevin equation?\n",
    "</div>"
   ]
  },
  {
   "cell_type": "markdown",
   "id": "b5af6ae8",
   "metadata": {},
   "source": [
    "Oui l'ensemble montre une tendance à se rapprocher de zero... mais très lentement...(cf l'équation de la vitesse dérivée)"
   ]
  },
  {
   "cell_type": "markdown",
   "id": "bcc56536",
   "metadata": {},
   "source": [
    "## Computation of particles trajectories"
   ]
  },
  {
   "cell_type": "markdown",
   "id": "095ee875",
   "metadata": {},
   "source": [
    "To obtain the trajectories of the simulated particles, we need to integrate matrices $V_x$ and $V_y$. This is easily calculated numerically since for a given function $f$, an accurate approximation of its primitive is\n",
    "\\begin{equation}\n",
    "\t\\int_0^{i\\cdot\\tau^\\prime} f(u)\\cdot du\\approx F(0)+\\tau^\\prime\\cdot\\sum_{k=0}^i f(k\\cdot\\tau^\\prime)\n",
    "\t\\label{equ_Mouvement_Brownien_1500}\n",
    "\\end{equation}"
   ]
  },
  {
   "cell_type": "markdown",
   "id": "6516afbd",
   "metadata": {},
   "source": [
    "<div class='alert alert-success'><strong>Question 6</strong>\n",
    "Using the $cumsum$ function to calculate the position of each simulated particles and store the result into $(N+1)\\!\\times\\!M$ matrices $X$ and $Y$. Then, using the $floor$ function combined to $random$, plot 4 arbitrary trajectories in the same graph.\n",
    "</div>"
   ]
  },
  {
   "cell_type": "code",
   "execution_count": null,
   "id": "13f195ca",
   "metadata": {},
   "outputs": [],
   "source": [
    "X = np.cumsum(Vx, axis=0)*tau_p+x0\n",
    "Y = np.cumsum(Vy, axis=0)*tau_p+y0\n",
    "\n",
    "fig = plt.figure(figsize=(14,10))\n",
    "ax = plt.gca()\n",
    "ax.set_xlabel('X(m)')\n",
    "ax.set_ylabel('Y(m)')\n",
    "ax.set_title('Trajectoire de particules')\n",
    "\n",
    "p1 = rd.randint(0,M)\n",
    "p2 = rd.randint(0,M)\n",
    "p3 = rd.randint(0,M)\n",
    "p4 = rd.randint(0,M)\n",
    "\n",
    "ax.plot(X[:,p1], Y[:,p1], color='red', lw=0.5)\n",
    "ax.plot(X[:,p2], Y[:,p2], color='blue', lw=0.5)\n",
    "ax.plot(X[:,p3], Y[:,p3], color='orange', lw=0.5)\n",
    "ax.plot(X[:,p4], Y[:,p4], color='green', lw=0.5)"
   ]
  },
  {
   "cell_type": "markdown",
   "id": "8486f328",
   "metadata": {},
   "source": [
    "<div class='alert alert-success'><strong>Question 7</strong>\n",
    "Calculate and plot $\\left\\langle X\\right\\rangle_t$ and $\\left\\langle Y\\right\\rangle_t$. Is the result compatible?\n",
    "</div>"
   ]
  },
  {
   "cell_type": "code",
   "execution_count": null,
   "id": "a8bbff9c",
   "metadata": {},
   "outputs": [],
   "source": [
    "X_mt = np.mean(X, axis=1)\n",
    "Y_mt = np.mean(Y, axis=1)\n",
    "fig = plt.figure(figsize=(14,10))\n",
    "ax = plt.gca()\n",
    "ax.set_xlabel('X(m)')\n",
    "ax.set_ylabel('Y(m)')\n",
    "ax.set_title('Trajectoire de particules')\n",
    "ax.plot(X_mt, Y_mt, color='red', lw=0.5)\n",
    "\n",
    "fig2, (ax1, ax2) = plt.subplots(1, 2, figsize=(14,5))\n",
    "ax1.set_xlabel('time(s)')\n",
    "ax1.set_ylabel('X_moy(m)')\n",
    "ax1.set_title('Evolution moyenne de X en fct du temps')\n",
    "ax1.plot(time, X_mt, color='red', lw=1)\n",
    "\n",
    "ax2.set_xlabel('time(s)')\n",
    "ax2.set_ylabel('Y_moy(m)')\n",
    "ax2.set_title('Evolution moyenne de Y en fct du temps')\n",
    "ax2.plot(time, Y_mt, color='red', lw=1)"
   ]
  },
  {
   "cell_type": "markdown",
   "id": "1f203f06",
   "metadata": {},
   "source": [
    "<div class='alert alert-success'><strong>Question 8</strong>\n",
    "Calculate and plot $\\left\\langle r^2\\right\\rangle_t=\\left\\langle X^2\\right\\rangle_t+\\left\\langle Y^2\\right\\rangle_t$. Is the result compatible with Einstein relation?\n",
    "</div>"
   ]
  },
  {
   "cell_type": "code",
   "execution_count": null,
   "id": "aef1d73a",
   "metadata": {},
   "outputs": [],
   "source": [
    "X2_mt = np.mean(X**2, axis=1)\n",
    "Y2_mt = np.mean(Y**2, axis=1)\n",
    "r2 = X2_mt+Y2_mt\n",
    "\n",
    "fig, (ax1, ax2) = plt.subplots(1, 2, figsize=(14,5))\n",
    "ax1.set_xlabel('time(s)')\n",
    "ax1.set_ylabel('X_moy(m**2)')\n",
    "ax1.plot(time, X2_mt, color='red', lw=1)\n",
    "\n",
    "ax2.set_xlabel('time(s)')\n",
    "ax2.set_ylabel('Y_moy(m**2)')\n",
    "ax2.plot(time, Y2_mt, color='red', lw=1)\n",
    "\n",
    "Einsein = 2*d*D*time\n",
    "ax3.set_ylabel('r**2/Einstein(m**2)')\n",
    "ax3.plot(time, Einsein, color='orange', lw=2)\n",
    "\n",
    "fig2, ax3 = plt.subplots(figsize=(14,5))\n",
    "ax3.set_xlabel('time(s)')\n",
    "ax3.plot(time, r2, color='black', lw=1)"
   ]
  }
 ],
 "metadata": {
  "kernelspec": {
   "display_name": "Python 3 (ipykernel)",
   "language": "python",
   "name": "python3"
  },
  "language_info": {
   "codemirror_mode": {
    "name": "ipython",
    "version": 3
   },
   "file_extension": ".py",
   "mimetype": "text/x-python",
   "name": "python",
   "nbconvert_exporter": "python",
   "pygments_lexer": "ipython3",
   "version": "3.9.6"
  },
  "toc": {
   "base_numbering": 1,
   "nav_menu": {},
   "number_sections": true,
   "sideBar": true,
   "skip_h1_title": true,
   "title_cell": "Table des matières",
   "title_sidebar": "Contenu",
   "toc_cell": true,
   "toc_position": {
    "height": "calc(100% - 180px)",
    "left": "10px",
    "top": "150px",
    "width": "225.2px"
   },
   "toc_section_display": true,
   "toc_window_display": true
  }
 },
 "nbformat": 4,
 "nbformat_minor": 5
}
