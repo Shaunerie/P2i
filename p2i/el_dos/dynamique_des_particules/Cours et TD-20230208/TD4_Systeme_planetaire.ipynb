{
 "cells": [
  {
   "cell_type": "markdown",
   "id": "2b75df64",
   "metadata": {},
   "source": [
    "# La Lune et la Terre"
   ]
  },
  {
   "cell_type": "markdown",
   "id": "9b02fa07",
   "metadata": {},
   "source": [
    "<div class='alert alert-info'>\n",
    "    <p>Aprés avoir simuler l'infiniment petit allons vers l'infiniment grand : le système solaire</p>\n",
    "</div>"
   ]
  },
  {
   "cell_type": "markdown",
   "id": "947f3e0d",
   "metadata": {},
   "source": [
    "## Introduction"
   ]
  },
  {
   "cell_type": "markdown",
   "id": "285e1d61",
   "metadata": {},
   "source": [
    "La loi de la gravitation ou loi de l'attraction universelle, découverte par Isaac Newton, voir figure 1, est la loi décrivant la gravitation comme une force responsable de la chute des corps et du mouvement des corps célestes, et de façon générale, de l'attraction entre des corps ayant une masse, par exemple les planètes, les satellites naturels ou artificiels.\n",
    "\n",
    "<p>\n",
    "<img src=\"./Images/Systeme_planetaire/IsaacNewton.jpg\" alt width=150 heigth=150>\n",
    "<center>Fig. 1 Isaac Newton (1642-1727), philosophe, mathématicien, physicien, alchimiste, astronome et théologien britannique !</center>\n",
    "<p>\n",
    "Deux corps ponctuels de masses respectives $M_A$ et $M_B$ s'attirent avec des forces de mêmes valeurs (mais vectoriellement opposées), proportionnelles à  chacune des masses, et inversement proportionnelle au carré de la distance qui les sépare. Cette force a pour direction la droite passant par les centres de gravité de ces deux corps. \n",
    "\n",
    "La force exercée sur le corps $B$ par le corps $A$ est donnée par:\n",
    "\n",
    "$$\n",
    "\\vec{F}_{A/B}=\\mathcal{G}\\frac{M_AM_B}{r^2}\\vec{u}_{B\\rightarrow A} \n",
    "$$\n",
    "\n",
    "avec $\\mathcal{G}=6.67\\times10^{-11}$~Nm$^2$/kg$^2$, la constante de gravitation universelle, $r$ la distance entre les corps $A$ et $B$ et $\\vec{u}_{B\\rightarrow A}$ un vecteur unitaire dirigé de $B$ vers $A$.\n",
    "\n",
    "Ainsi la Terre attire la lune grâce à la force de gravitation universelle. Par conséquent, la lune doit forcément tomber sur la Terre ! Le but de cette séance de déterminer à quelle echéance if faudra commencer à  s'inquiéter...\n",
    "    \n",
    "<p>\n",
    "<img src=\"./Images/Systeme_planetaire/Giantimpact.gif\" alt width=250 heigth=250>\n",
    "<center>Fig. 2 La lune va-t-elle donc tomber sur la Terre ?</center>\n",
    "<p>\n",
    "\n",
    "\n",
    "\n"
   ]
  },
  {
   "cell_type": "markdown",
   "id": "47c50686",
   "metadata": {},
   "source": [
    "<div class='alert alert-success'><strong>Question 1</strong>\n",
    "    \n",
    "Que vaut la norme de l'accélération $\\vec{g}$ de la pesanteur ? On donne $m_T=5.97\\times10^{24}$kg et $r_T=6370$km de la terre\n",
    "</div>"
   ]
  },
  {
   "cell_type": "code",
   "execution_count": 1,
   "id": "7f1afaef",
   "metadata": {},
   "outputs": [],
   "source": [
    "import numpy as np\n",
    "from numpy import exp, sin, cos, log, tan, pi, sqrt\n",
    "import matplotlib.pyplot as plt\n",
    "import matplotlib.animation as animation\n",
    "\n",
    "mT = 5.97*1e24; rT = 6370*1e3; G=6.67*1e-11\n",
    "#Alors soit une masse de 1kg on a g = G*mT/rT**2\n",
    "g = G*mT/(rT**2)"
   ]
  },
  {
   "cell_type": "markdown",
   "id": "a4c0a0f5",
   "metadata": {},
   "source": [
    "## La Lune tourne autour de la Terre..."
   ]
  },
  {
   "cell_type": "markdown",
   "id": "11f994bf",
   "metadata": {},
   "source": [
    "Pour prédire la trajectoire de la Lune, nous allons intégrer son accélération par rapport au temps."
   ]
  },
  {
   "cell_type": "markdown",
   "id": "9506cf14",
   "metadata": {},
   "source": [
    "<div class='alert alert-success'><strong>Question 2</strong>\n",
    "    \n",
    "Choisir le repère et le système qui permet d'établir l'équation de la trajectoire de la Lune.\n",
    "</div>"
   ]
  },
  {
   "cell_type": "code",
   "execution_count": 2,
   "id": "4e03ea15",
   "metadata": {},
   "outputs": [],
   "source": [
    "#On choisit le référentiel terreste"
   ]
  },
  {
   "cell_type": "markdown",
   "id": "935154c3",
   "metadata": {},
   "source": [
    "<div class='alert alert-success'><strong>Question 3</strong>\n",
    "    \n",
    "Donner l'expression de la force d'attraction de la Terre sur la Lune en fonction des coordonnées $x_L$, $y_L$, $z_L$, $x_T$, $y_T$, $z_T$ de la Lune et de la Terre.\n",
    "</div>"
   ]
  },
  {
   "cell_type": "code",
   "execution_count": 3,
   "id": "f3aef910",
   "metadata": {},
   "outputs": [],
   "source": [
    "# u_TL= np.array([xL, yL, zL])/sqrt(xL**2+yL**2+zL**2)\n",
    "# F_TL = -G*(mT*mL)/(xL**2+yL**2+zL**2) * u_TL"
   ]
  },
  {
   "cell_type": "markdown",
   "id": "6aabe55f",
   "metadata": {},
   "source": [
    "<div class='alert alert-success'><strong>Question 4</strong>\n",
    "    \n",
    "Définir les constantes du problème et les valeurs initiales de la position $\\vec{r}_0$ et de la vitesse $\\vec{v}_0$ de la Lune. On donne la distance Terre-Lune $d_{TL}=384 399$km, la masse de la Lune $m_L=7.35\\times10^{22}$kg.\n",
    "</div>"
   ]
  },
  {
   "cell_type": "code",
   "execution_count": 11,
   "id": "0a278ad1",
   "metadata": {},
   "outputs": [],
   "source": [
    "#cf apres\n"
   ]
  },
  {
   "cell_type": "markdown",
   "id": "7faab68a",
   "metadata": {},
   "source": [
    "<div class='alert alert-success'><strong>Question 5</strong>\n",
    "    \n",
    "Réaliser la boucle temporelle permettant de calculer la trajectoire de la Lune à l'aide de l'algorithme de Verlet et Euler.\n",
    "</div>"
   ]
  },
  {
   "cell_type": "code",
   "execution_count": 57,
   "id": "5fbe56aa",
   "metadata": {},
   "outputs": [
    {
     "data": {
      "text/plain": [
       "[<matplotlib.lines.Line2D at 0x15556488fd0>]"
      ]
     },
     "execution_count": 57,
     "metadata": {},
     "output_type": "execute_result"
    },
    {
     "data": {
      "image/png": "[encoded data removed]",
      "text/plain": [
       "<Figure size 1440x1440 with 1 Axes>"
      ]
     },
     "metadata": {
      "needs_background": "light"
     },
     "output_type": "display_data"
    }
   ],
   "source": [
    "#Avec newton: force = m*a = m*dv/dt\n",
    "#Euler explicite:\n",
    "#On initie les valeurs:\n",
    "xL=384399*1e3; yL=0; zL=0; mL=7.35*1e22\n",
    "r0 = np.array([xL, yL, zL])\n",
    "v0 = np.array([0, 1000, 0])\n",
    "dt = 60 #pas de temps\n",
    "\n",
    "N = int(1e4) #nombre de temps\n",
    "V = np.zeros((N,3))\n",
    "V[0, :] = v0\n",
    "R = np.zeros((N, 3))\n",
    "R[0, :] = r0\n",
    "\n",
    "\n",
    "\n",
    "\n",
    "u_TL= r0/sqrt(xL**2+yL**2+zL**2)\n",
    "F_TL = -G*(mT*mL)/(xL**2+yL**2+zL**2) * u_TL\n",
    "for i in range(N-1):\n",
    "    V[i+1,:] = V[i,:] + (dt/mL)*F_TL\n",
    "    \n",
    "    R[i+1,:] = R[i,:] + dt*V[i,:]\n",
    "    \n",
    "    u_TL= R[i]/sqrt(xL**2+yL**2+zL**2)\n",
    "    F_TL = -G*(mT*mL)/(xL**2+yL**2+zL**2) * u_TL\n",
    "    if sqrt(R[i, 0]**2 + R[i, 1]**2 + R[i, 2]**2) <= rT:\n",
    "        print(\"Impact\")\n",
    "        print(dt*i/3600)\n",
    "        break\n",
    "\n",
    "fig, ax = plt.subplots(figsize = (20,20))\n",
    "ax.set_xlabel('X(en m)')\n",
    "ax.set_ylabel('Y(en m)')\n",
    "ax.scatter(0, 0, label='Terre', color='red', s=100)\n",
    "ax.set(xlim=(-384399*1e3*1.2, 384399*1e3*1.2), ylim=(-384399*1e3*1.2,384399*1e3*1.2))\n",
    "ax.plot(R[:,0], R[:,1], ms = 2)"
   ]
  },
  {
   "cell_type": "markdown",
   "id": "f1a0dd53",
   "metadata": {},
   "source": [
    "<div class='alert alert-success'><strong>Question 6</strong>\n",
    "    \n",
    "Quelle condition doit être remplie pour ne pas que la lune percute la Terre?\n",
    "</div>"
   ]
  },
  {
   "cell_type": "markdown",
   "id": "6772736e",
   "metadata": {},
   "source": [
    "<div class='alert alert-success'><strong>Question 7</strong>\n",
    "    \n",
    "Quelles sont les trois types de trajectoire que pourrait connaitre la Lune en fonction des conditions initiales? (On supposera que $\\vec{v}_0$ est perpendiculaire au vecteur allant de la Lune à  la Terre).\n",
    "</div>"
   ]
  },
  {
   "cell_type": "code",
   "execution_count": null,
   "id": "fb0e9d02",
   "metadata": {},
   "outputs": [],
   "source": []
  }
 ],
 "metadata": {
  "kernelspec": {
   "display_name": "Python 3 (ipykernel)",
   "language": "python",
   "name": "python3"
  },
  "language_info": {
   "codemirror_mode": {
    "name": "ipython",
    "version": 3
   },
   "file_extension": ".py",
   "mimetype": "text/x-python",
   "name": "python",
   "nbconvert_exporter": "python",
   "pygments_lexer": "ipython3",
   "version": "3.8.5"
  },
  "toc": {
   "base_numbering": 1,
   "nav_menu": {},
   "number_sections": true,
   "sideBar": true,
   "skip_h1_title": true,
   "title_cell": "Table des matières",
   "title_sidebar": "Contenu",
   "toc_cell": true,
   "toc_position": {
    "height": "calc(100% - 180px)",
    "left": "10px",
    "top": "150px",
    "width": "225.2px"
   },
   "toc_section_display": true,
   "toc_window_display": true
  }
 },
 "nbformat": 4,
 "nbformat_minor": 5
}
