{
 "cells": [
  {
   "cell_type": "markdown",
   "metadata": {},
   "source": [
    "# Notions d'arithmétique-machine"
   ]
  },
  {
   "cell_type": "markdown",
   "metadata": {},
   "source": [
    "### Séance du Mercredi 8 février 2023:\n",
    "--- "
   ]
  },
  {
   "cell_type": "code",
   "execution_count": 1,
   "metadata": {},
   "outputs": [],
   "source": [
    "import numpy as np\n",
    "import matplotlib.pyplot as plt"
   ]
  },
  {
   "cell_type": "markdown",
   "metadata": {},
   "source": [
    "####  1 - Un calcul déroutant !"
   ]
  },
  {
   "cell_type": "code",
   "execution_count": 2,
   "metadata": {},
   "outputs": [
    {
     "name": "stdout",
     "output_type": "stream",
     "text": [
      "u_1 = 0.3678794411714423\n",
      "u_2 = 0.2642411176571153\n",
      "u_3 = 0.207276647028654\n",
      "u_4 = 0.170893411885384\n",
      "u_5 = 0.1455329405730801\n",
      "u_6 = 0.1268023565615195\n",
      "u_7 = 0.1123835040693635\n",
      "u_8 = 0.1009319674450921\n",
      "u_9 = 0.09161229299417073\n",
      "u_10 = 0.0838770700582927\n",
      "u_11 = 0.07735222935878028\n",
      "u_12 = 0.07177324769463667\n",
      "u_13 = 0.06694777996972334\n",
      "u_14 = 0.06273108042387321\n",
      "u_15 = 0.05903379364190187\n",
      "u_16 = 0.05545930172957014\n",
      "u_17 = 0.05719187059730757\n",
      "u_18 = -0.02945367075153627\n",
      "u_19 = 1.559619744279189\n",
      "u_20 = -30.19239488558378\n",
      "u_21 = 635.0402925972594\n",
      "u_22 = -13969.88643713971\n",
      "u_23 = 321308.3880542133\n",
      "u_24 = -7711400.313301118\n",
      "u_25 = 192785008.832528\n"
     ]
    }
   ],
   "source": [
    "#Activité numérique 1(double_précision):\n",
    "nmax = 25\n",
    "u = 1.0/np.exp(1.0) #u_1\n",
    "print(f\"u_1 = {u:.16G}\")\n",
    "for n in range(2, nmax+1):\n",
    "    u = 1.0 -n*u\n",
    "    print(f\"u_{n} = {u:.16G}\")"
   ]
  },
  {
   "cell_type": "markdown",
   "metadata": {},
   "source": [
    "On trouve des résultats aberrant (notamment u_18 qui est négatif alors que c'est une intégrale de termes purement positif...). L'erreur provient de la précision de la machine. On ne peut pas stocker la variable de exp(-1)... Or en utilisant la formule de reccurence on incrémente de manière factorielle l'erreur commise qui, de base à u_1, est celle de la valeur de exp(-1) cad 10^-16. Python est en double précision (10^-16). Mais on peut aussi travailer en simple précision (10^-7) cf la suite:"
   ]
  },
  {
   "cell_type": "code",
   "execution_count": 3,
   "metadata": {},
   "outputs": [
    {
     "name": "stdout",
     "output_type": "stream",
     "text": [
      "u_1 = 0.3678794\n",
      "u_2 = 0.2642412\n",
      "u_3 = 0.2072765\n",
      "u_4 = 0.1708939\n",
      "u_5 = 0.1455304\n",
      "u_6 = 0.1268175\n",
      "u_7 = 0.1122772\n",
      "u_8 = 0.1017825\n",
      "u_9 = 0.08395744\n",
      "u_10 = 0.1604256\n",
      "u_11 = -0.764682\n",
      "u_12 = 10.17618\n",
      "u_13 = -131.2904\n",
      "u_14 = 1839.066\n",
      "u_15 = -27584.98\n",
      "u_16 = 441360.7\n",
      "u_17 = -7503131\n",
      "u_18 = 1.350564E+08\n",
      "u_19 = -2.566071E+09\n",
      "u_20 = 5.132142E+10\n",
      "u_21 = -1.07775E+12\n",
      "u_22 = 2.37105E+13\n",
      "u_23 = -5.453414E+14\n",
      "u_24 = 1.308819E+16\n",
      "u_25 = -3.272048E+17\n"
     ]
    }
   ],
   "source": [
    "#Activité numérique 2(simple précision):\n",
    "nmax = 25\n",
    "u = 1.0/np.exp(np.float32(1.0)) #u_1 insertion du float 32 pour la simple précision\n",
    "print(f\"u_1 = {u:.7G}\")\n",
    "for n in range(2, nmax+1):\n",
    "    u = 1.0 -n*u\n",
    "    print(f\"u_{n} = {u:.7G}\")"
   ]
  },
  {
   "cell_type": "markdown",
   "metadata": {},
   "source": [
    "#### 2 - Représentation sur ordinateur."
   ]
  },
  {
   "cell_type": "markdown",
   "metadata": {},
   "source": [
    "##### 2.1 Les nombres-machines."
   ]
  },
  {
   "cell_type": "code",
   "execution_count": 4,
   "metadata": {},
   "outputs": [
    {
     "name": "stdout",
     "output_type": "stream",
     "text": [
      "2.2250738585072014e-308\n",
      "1.7976931348623157e+308\n",
      "2.220446049250313e-16\n",
      "Machine parameters for float64\n",
      "---------------------------------------------------------------\n",
      "precision =  15   resolution = 1.0000000000000001e-15\n",
      "machep =    -52   eps =        2.2204460492503131e-16\n",
      "negep =     -53   epsneg =     1.1102230246251565e-16\n",
      "minexp =  -1022   tiny =       2.2250738585072014e-308\n",
      "maxexp =   1024   max =        1.7976931348623157e+308\n",
      "nexp =       11   min =        -max\n",
      "---------------------------------------------------------------\n",
      "\n"
     ]
    }
   ],
   "source": [
    "#Activité numérique 3\n",
    "#UFL (plus petit nombre-machine normalisé)\n",
    "print(np.finfo(np.float64).tiny)\n",
    "#OFL (plus grand nombre-machine normalisé)\n",
    "print(np.finfo(np.float64).max)\n",
    "#epislon-machine\n",
    "print(np.finfo(np.float64).eps)\n",
    "#Paramètres de 'oridnateur (double précision)\n",
    "print(np.finfo(np.float64))"
   ]
  },
  {
   "cell_type": "markdown",
   "metadata": {},
   "source": [
    "On l'a vu avec l'ensemble des nombre-machine $\\normalsize\\mathbb{F}$. On ne peut pas réprésenter tous les nombres est on a fixé des règles imposant une représentation minimale et maximale... De plus l'ensemble n'est pas continu il existe un 'epsilon machine' d'écart entre deux de ces nombres cf au-dessus..."
   ]
  },
  {
   "cell_type": "markdown",
   "metadata": {},
   "source": [
    "##### 2.2 Un réel est-il toujours un nombre-machine ?"
   ]
  },
  {
   "cell_type": "code",
   "execution_count": 5,
   "metadata": {},
   "outputs": [
    {
     "name": "stdout",
     "output_type": "stream",
     "text": [
      "1/3 (single-précision) : 0.3333333432674407959.\n",
      "1/3 (double-précision) : 0.33333333333333331483.\n",
      "1/10 (single-précision) : 0.10000000149011611938.\n",
      "1/10 (double-précision) : 0.10000000000000000555.\n"
     ]
    }
   ],
   "source": [
    "#Activité Numérique 4(commentaire voir le markdown suivant).\n",
    "x = np.float32(1)/np.float32(3)\n",
    "print(f\"1/3 (single-précision) : {x:.20G}.\")\n",
    "x = np.float64(1)/np.float64(3)\n",
    "print(f\"1/3 (double-précision) : {x:.20G}.\")\n",
    "\n",
    "x = np.float32(1)/np.float32(10)\n",
    "print(f\"1/10 (single-précision) : {x:.20G}.\")\n",
    "x = np.float64(1)/np.float64(10)\n",
    "print(f\"1/10 (double-précision) : {x:.20G}.\")\n",
    "\n"
   ]
  },
  {
   "cell_type": "markdown",
   "metadata": {},
   "source": [
    "Ici on voit bien que 1/10 et 1/3 n'apartiennent pas a $\\normalsize\\mathbb{F}$. Il y a donc une erreur commise sur leur représentation égale au pire à l'epsilon machine divisé par 2(en effet la norme prend le nombre machine le plus proche pour représenter un réel x quelconque...). D'ailleurs on voit bien l'erreur ici: en single-precision c'est 10^-7(espilon-machine) divise par 2 fois le nombre donc ici environ 10^-7 et pareil en double-precision c'est un peu près 10^-16 ici... On ne peut pas dire que l'erreur est directement égale à l'epsilon-machine divisé par 2 car on a (aparemment) repéré des erreurs comme ca... C'est un axiome! on a: $$ fl(x) = x \\times (1+\\delta_x) $$avec $fl(x)$ le nombre-machine stocké, $x$ le nombre réel en question et $\\delta_x$ tel que $|\\delta_x| \\leq \\Large\\frac{\\epsilon}{2}$ (epsilon-machine).\n",
    "\n",
    "On a donc bien une erreur égale à: $x \\times \\delta_x$ En effet on a: $\\delta_x = \\frac{f(x) - x}{x}$ soit une erreur relative."
   ]
  },
  {
   "cell_type": "markdown",
   "metadata": {},
   "source": [
    "##### 2.3 Opération-machine"
   ]
  },
  {
   "cell_type": "markdown",
   "metadata": {},
   "source": [
    "Quand l'ordinateur fait une opération machine sur deux nombres machines y'a aussi une erreur tel que: $\\delta_x = \\frac{fl(x*y)-x*y}{x*y}$... Par contre lorsqu'on fait un calcul sur des nombres meme pas machines ? L'ordinateur fait alors trois erreurs 2 d'affectations(on réécrit x et y avec les fl(x) et fl(y)) et une d'opération(cf avant)."
   ]
  },
  {
   "cell_type": "code",
   "execution_count": 6,
   "metadata": {},
   "outputs": [
    {
     "name": "stdout",
     "output_type": "stream",
     "text": [
      "3*(0.1+ 0.1 + 0.1) = 0.9000000000000001\n",
      "3*(0.1+ 0.1 + 0.1) = 0.9000000000000001\n",
      "3*(0.1+ 0.1 + 0.1) = 0.90000000000000013323\n",
      "sqrt(2)*sqrt(2)= 2.0000000000000004\n",
      "False\n",
      "sqrt(2)*sqrt(2)-2= 4.440892098500626e-16\n",
      "sqrt(2)*sqrt(2) = 2.0000000000000004441\n",
      "a=1.3333333333333333\n",
      "b=0.33333333333333326\n",
      "c=0.9999999999999998\n",
      "1-((4/3-1)+(4/3-1)+(4/3-1)) = 2.220446049250313e-16\n"
     ]
    }
   ],
   "source": [
    "#Activité Numérique 5\n",
    "#   Question 1\n",
    "p = 3*(0.1+ 0.1 + 0.1)\n",
    "print(\"3*(0.1+ 0.1 + 0.1) = {}\".format(p))\n",
    "print(\"3*(0.1+ 0.1 + 0.1) = {:.16G}\".format(p))\n",
    "print(\"3*(0.1+ 0.1 + 0.1) = {:.20G}\".format(p))\n",
    "#   Question 2\n",
    "from math import sqrt\n",
    "p = sqrt(2)*sqrt(2)\n",
    "print(\"sqrt(2)*sqrt(2)=\",p)\n",
    "print(p==2)\n",
    "print(\"sqrt(2)*sqrt(2)-2=\", p-2)\n",
    "print(\"sqrt(2)*sqrt(2) = {:.20G}\".format(p))\n",
    "#   Question 3\n",
    "a = 4.0/3.0; print(\"a={}\".format(a))\n",
    "b = a-1.0; print(\"b={}\".format(b))\n",
    "c = b+b+b; print(\"c={}\".format(c))\n",
    "d = 1.0-c; print(\"1-((4/3-1)+(4/3-1)+(4/3-1)) = {}\".format(d))"
   ]
  },
  {
   "cell_type": "markdown",
   "metadata": {},
   "source": [
    "On voit ici que nos calculateurs ne sont pas très robustes... Le plus remarquable est la question 3. On devrait obtenir 0 et on obtient l'épsilon! De plus la non-formalisation des nombres fait peur quand on voit que pour python sqrt(2)*sqrt(2) != 2."
   ]
  },
  {
   "cell_type": "markdown",
   "metadata": {},
   "source": [
    "#### 3 Sensibilité aux erreurs d'arrondi "
   ]
  },
  {
   "cell_type": "markdown",
   "metadata": {},
   "source": [
    "##### 3.1 Erreur par absorption (l'éléphant et la souris!)"
   ]
  },
  {
   "cell_type": "markdown",
   "metadata": {},
   "source": [
    "Plus généralement, étant donnés deux nombres-machines $x_m$ et $y_m$ de même signe, puisque $x_m + y_m = x_m (1 + \\frac{y_m}{x_m})$, on a $x_m +(machine) y_m = x_m$ dès que:$ \\frac{y_m}{x_m}<\\frac{\\epsilon_m}{2}$ Le y_m se fait absorber par le x_m."
   ]
  },
  {
   "cell_type": "code",
   "execution_count": 7,
   "metadata": {
    "scrolled": true
   },
   "outputs": [
    {
     "name": "stdout",
     "output_type": "stream",
     "text": [
      "res1 = 0.00000000000000022204\n",
      "res2 = 0.00000000000000000000\n",
      "res3 = 1.00000000000000000000\n",
      "res4 = 1.00000000000000022204\n",
      "res5 = 0.99999999999999988898\n",
      "res6 = 1.00000000000000000000\n"
     ]
    }
   ],
   "source": [
    "#Activité numérique 6\n",
    "import numpy as np\n",
    "epsm = np.finfo(np.float64).eps\n",
    "res1 = 1.0 + epsm - 1.0\n",
    "print(\"res1 = {:.20F}\".format(res1))\n",
    "res2 = 1.0 + epsm/2.0 - 1.0\n",
    "print(\"res2 = {:.20F}\".format(res2))\n",
    "res3 = 1.0 + epsm/2.0 + epsm/2.0\n",
    "print(\"res3 = {:.20F}\".format(res3))\n",
    "res4 = 1.0 + (epsm/2.0 + epsm/2.0)\n",
    "print(\"res4 = {:.20F}\".format(res4))\n",
    "res5 = epsm/2.0 + 1.0 - epsm/2.0\n",
    "print(\"res5 = {:.20F}\".format(res5))\n",
    "res6 = epsm/2.0 + (1.0 - epsm/2.0)\n",
    "print(\"res6 = {:.20F}\".format(res6))"
   ]
  },
  {
   "cell_type": "markdown",
   "metadata": {},
   "source": [
    "Idée de l'éléphant et de la souris. Attention l'epsilon machine($\\epsilon_m$) est une constante mais l'écart entre deux nombres machine n'est pas toujours égale à cet écart. L'écart entre le nombre et son succ ou son pred dépend du nombre... d'où les différentes absorptions qu'on observe en haut(munis toi de la page 3(en-tête)  "
   ]
  },
  {
   "cell_type": "code",
   "execution_count": 8,
   "metadata": {},
   "outputs": [
    {
     "name": "stdout",
     "output_type": "stream",
     "text": [
      "H_2097152 = 15.403682708740234\n"
     ]
    }
   ],
   "source": [
    "#Activité numérique 7\n",
    "H1 = np.float32(1.0)\n",
    "test = False\n",
    "n = 1\n",
    "while test == False:\n",
    "    n = n + 1\n",
    "    H2 = H1 + np.float32(1)/np.float32(n)\n",
    "    test = H1 == H2\n",
    "    H1 = H2\n",
    "\n",
    "print(f\"H_{n} = {H1}\")"
   ]
  },
  {
   "cell_type": "markdown",
   "metadata": {},
   "source": [
    "L'activité précédente montre qu'au bout de 2 097 152 itérations, la série harmonique devient constante... ce qui est problématique car c'est une série divergente en réalité. En effet au bout d'un moment le nombres 1/n est absorbé par le nombre Hn-1."
   ]
  },
  {
   "cell_type": "markdown",
   "metadata": {},
   "source": [
    "##### 3.2 Erreur par cancellation"
   ]
  },
  {
   "cell_type": "code",
   "execution_count": 25,
   "metadata": {
    "scrolled": true
   },
   "outputs": [
    {
     "data": {
      "image/png": "[encoded data removed]",
      "text/plain": [
       "<Figure size 720x360 with 1 Axes>"
      ]
     },
     "metadata": {
      "needs_background": "light"
     },
     "output_type": "display_data"
    },
    {
     "data": {
      "image/png": "[encoded data removed]",
      "text/plain": [
       "<Figure size 720x360 with 1 Axes>"
      ]
     },
     "metadata": {
      "needs_background": "light"
     },
     "output_type": "display_data"
    }
   ],
   "source": [
    "#Activité Numérique 8.\n",
    "f = lambda x : (1-np.cos(x)**2)/x**2\n",
    "\n",
    "fig, ax = plt.subplots(figsize = (10,5))\n",
    "x = np.linspace(-10,10,100)\n",
    "ax.plot(x,f(x),'o', color='black', ms=2)\n",
    "ax.set_xlabel(\"x\")\n",
    "ax.set_ylabel(\"y\")\n",
    "plt.grid()\n",
    "plt.show()\n",
    "\n",
    "\n",
    "fig, ax = plt.subplots(figsize = (10,5))\n",
    "x = np.linspace(-1e-7,1e-7,100)\n",
    "ax.plot(x,f(x),'o',color='black', ms=2)\n",
    "ax.set_xlabel(\"x\")\n",
    "ax.set_ylabel(\"y\")\n",
    "plt.grid()\n",
    "plt.show()"
   ]
  },
  {
   "cell_type": "markdown",
   "metadata": {},
   "source": [
    "Phénomène de cancellation ? ==> oui le phénomène de cancellation est un phénomène qui augmente les résidues d'une soustraction normallement proche de 0. ici on a une soustraction 1-1 en 0 qu'on divise par un truc tres grand."
   ]
  },
  {
   "cell_type": "markdown",
   "metadata": {},
   "source": [
    "Calcul des racines d'un trinôme"
   ]
  },
  {
   "cell_type": "code",
   "execution_count": null,
   "metadata": {},
   "outputs": [],
   "source": [
    "#Activité Numérique 9:\n",
    "pmax = 8\n",
    "betal = np. zeros (pmax+1);\n",
    "beta2 = np. zeros (pmax +1)\n",
    "for p in range (pmax+1):\n",
    "    a = 1\n",
    "    b = 10**p+10**(-p)\n",
    "    c = 1 # coef. du trinôme\n",
    "    delta = b**2-4*a*c # discriminant du trinôme\n",
    "    #racines du trinome\n",
    "    betal [p] = (-b+np.sqrt(delta))/(2*a)\n",
    "    beta2 [p] = (-b-np.sqrt(delta))/(2*a)\n",
    "print(\"Valeurs de la première racine\")\n",
    "for p in range (pmax+1):\n",
    "    print('p : {} -> {:.16G}'.format(p, betal[p]))\n",
    "print(\"Valeurs de la deuxième racine\")\n",
    "for p in range (pmax+1):\n",
    "    print(\"p : {} -> {:.16G}\".format(p, beta2 [p]))\n",
    "print (\"Mais qu'est-ce done ?\")\n",
    "for p in range (pmax+1):\n",
    "    a = 1\n",
    "    b = 10**p+10**(-p)\n",
    "    c = 1\n",
    "    beta = (-2*c)/(b+np.sqrt(b**2-4*a*c))\n",
    "    print(\"p : {} -> {:.16G}\".format(p, beta))\n"
   ]
  }
 ],
 "metadata": {
  "kernelspec": {
   "display_name": "Python 3 (ipykernel)",
   "language": "python",
   "name": "python3"
  },
  "language_info": {
   "codemirror_mode": {
    "name": "ipython",
    "version": 3
   },
   "file_extension": ".py",
   "mimetype": "text/x-python",
   "name": "python",
   "nbconvert_exporter": "python",
   "pygments_lexer": "ipython3",
   "version": "3.9.7"
  },
  "vscode": {
   "interpreter": {
    "hash": "916dbcbb3f70747c44a77c7bcd40155683ae19c65e1c03b4aa3499c5328201f1"
   }
  }
 },
 "nbformat": 4,
 "nbformat_minor": 2
}
