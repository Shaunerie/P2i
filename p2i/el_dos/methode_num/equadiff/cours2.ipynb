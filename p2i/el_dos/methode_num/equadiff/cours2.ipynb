{
 "cells": [
  {
   "cell_type": "code",
   "execution_count": null,
   "metadata": {},
   "outputs": [],
   "source": [
    "from numpy import pi, cos, sin\n",
    "import numpy as np\n",
    "import matplotlib.pyplot as plt\n",
    "\n",
    "#2.1 Schéma d'Euler explicite\n",
    "# Yi2 = Yi1 + dt * F\n",
    "#2)\n",
    "l=1; g=10; alpha=1; T=10; N=100; dt= T/N\n",
    "X = np.linspace(0, T, N+1)\n",
    "Y1 = np.zeros(N+1)\n",
    "Y2 = np.zeros(N+1)\n",
    "\n",
    "theta = alpha*pi/180 #deg --> rad\n",
    "theta_p = 0\n",
    "Y1[0], Y2[0] = theta, theta_p\n",
    "\n",
    "for t in range(1, N+1):\n",
    "    theta = theta + dt*theta_p\n",
    "    theta_p = theta_p -dt*(g/l)*sin(theta)\n",
    "    Y1[0], Y2[0] = theta, theta_p\n",
    "\n",
    "fig, (ax1, ax2) = plt.subplots(1, 2, figsize=(14,4)) #le 1,2 veut dire une ligne 2 colonne soit deux graphes\n",
    "\n",
    "ax1.set_xlabel(r'temps séparé de dt=1/0')\n",
    "ax1.set_ylabel(r'\\theta(t)')\n",
    "ax1.set_title(r'Evolution de \\theta(t) au cours du temps.')\n",
    "\n",
    "ax2.set_xlabel(r'temps séparé de dt=1/0')\n",
    "ax2.set_ylabel(r'\\theta^.(t)')\n",
    "ax2.set_title(r'Evolution de \\theta^.(t) au cours du temps.')\n",
    "\n",
    "ax1.plot(X, Y1)\n",
    "ax2.plot(X, Y2)\n",
    "\n",
    "\n"
   ]
  }
 ],
 "metadata": {
  "kernelspec": {
   "display_name": "Python 3",
   "language": "python",
   "name": "python3"
  },
  "language_info": {
   "name": "python",
   "version": "3.7.9"
  },
  "orig_nbformat": 4,
  "vscode": {
   "interpreter": {
    "hash": "5109d816b82be14675a6b11f8e0f0d2e80f029176ed3710d54e125caa8520dfd"
   }
  }
 },
 "nbformat": 4,
 "nbformat_minor": 2
}
